{
 "cells": [
  {
   "cell_type": "markdown",
   "metadata": {},
   "source": [
    "## Import the libraries"
   ]
  },
  {
   "cell_type": "code",
   "execution_count": 1,
   "metadata": {},
   "outputs": [
    {
     "name": "stderr",
     "output_type": "stream",
     "text": [
      "Using TensorFlow backend.\n"
     ]
    }
   ],
   "source": [
    "import numpy as np\n",
    "import matplotlib.pyplot as plt\n",
    "from keras.callbacks import Callback\n",
    "import keras.backend as K\n",
    "\n",
    "import keras\n",
    "from keras.datasets import mnist\n",
    "from keras.models import Sequential\n",
    "from keras.layers import Dense, Dropout\n",
    "from utils.keras_OneCycle import OneCycle"
   ]
  },
  {
   "cell_type": "markdown",
   "metadata": {},
   "source": [
    "### Load the dataset"
   ]
  },
  {
   "cell_type": "code",
   "execution_count": 2,
   "metadata": {},
   "outputs": [
    {
     "name": "stdout",
     "output_type": "stream",
     "text": [
      "60000 train samples\n",
      "10000 test samples\n"
     ]
    }
   ],
   "source": [
    "(X_train, y_train), (X_test, y_test) = mnist.load_data()\n",
    "\n",
    "X_train = X_train.reshape(60000, 784)\n",
    "X_test = X_test.reshape(10000, 784)\n",
    "X_train = X_train.astype('float32')\n",
    "X_test = X_test.astype('float32')\n",
    "X_train /= 255\n",
    "X_test /= 255\n",
    "print(X_train.shape[0], 'train samples')\n",
    "print(X_test.shape[0], 'test samples')"
   ]
  },
  {
   "cell_type": "code",
   "execution_count": 3,
   "metadata": {},
   "outputs": [],
   "source": [
    "num_classes = 10\n",
    "batch_size = 128\n",
    "epochs=5"
   ]
  },
  {
   "cell_type": "code",
   "execution_count": 4,
   "metadata": {},
   "outputs": [],
   "source": [
    "y_train = keras.utils.to_categorical(y_train, num_classes)\n",
    "y_test = keras.utils.to_categorical(y_test, num_classes)"
   ]
  },
  {
   "cell_type": "markdown",
   "metadata": {},
   "source": [
    "### Create a Network"
   ]
  },
  {
   "cell_type": "markdown",
   "metadata": {},
   "source": [
    "The loss function has to be **categorical_crossentropy** since we deal with categorical labels.\n",
    "The same goes for the last activation which has to be **softmax** since we have more than two classes (sigmoid would be fine for two classes)."
   ]
  },
  {
   "cell_type": "code",
   "execution_count": 5,
   "metadata": {},
   "outputs": [],
   "source": [
    "def Net():\n",
    "\n",
    "    model = Sequential()\n",
    "    model.add(Dense(512, activation='relu', input_shape=(784,)))\n",
    "    model.add(Dropout(0.2))\n",
    "    model.add(Dense(512, activation='relu'))\n",
    "    model.add(Dropout(0.2))\n",
    "    model.add(Dense(num_classes, activation='softmax'))\n",
    "\n",
    "    model.compile(loss='categorical_crossentropy',\n",
    "              optimizer='SGD',\n",
    "              metrics=['accuracy'])\n",
    "\n",
    "    return model"
   ]
  },
  {
   "cell_type": "code",
   "execution_count": 6,
   "metadata": {},
   "outputs": [
    {
     "name": "stdout",
     "output_type": "stream",
     "text": [
      "_________________________________________________________________\n",
      "Layer (type)                 Output Shape              Param #   \n",
      "=================================================================\n",
      "dense_1 (Dense)              (None, 512)               401920    \n",
      "_________________________________________________________________\n",
      "dropout_1 (Dropout)          (None, 512)               0         \n",
      "_________________________________________________________________\n",
      "dense_2 (Dense)              (None, 512)               262656    \n",
      "_________________________________________________________________\n",
      "dropout_2 (Dropout)          (None, 512)               0         \n",
      "_________________________________________________________________\n",
      "dense_3 (Dense)              (None, 10)                5130      \n",
      "=================================================================\n",
      "Total params: 669,706\n",
      "Trainable params: 669,706\n",
      "Non-trainable params: 0\n",
      "_________________________________________________________________\n"
     ]
    }
   ],
   "source": [
    "model = Net()\n",
    "model.summary()"
   ]
  },
  {
   "cell_type": "code",
   "execution_count": 7,
   "metadata": {},
   "outputs": [
    {
     "data": {
      "image/svg+xml": [
       "<svg height=\"410pt\" viewBox=\"0.00 0.00 176.00 410.00\" width=\"176pt\" xmlns=\"http://www.w3.org/2000/svg\" xmlns:xlink=\"http://www.w3.org/1999/xlink\">\n",
       "<g class=\"graph\" id=\"graph0\" transform=\"scale(1 1) rotate(0) translate(4 406)\">\n",
       "<title>G</title>\n",
       "<polygon fill=\"#ffffff\" points=\"-4,4 -4,-406 172,-406 172,4 -4,4\" stroke=\"transparent\"/>\n",
       "<!-- 4852566392 -->\n",
       "<g class=\"node\" id=\"node1\">\n",
       "<title>4852566392</title>\n",
       "<polygon fill=\"none\" points=\"0,-365.5 0,-401.5 168,-401.5 168,-365.5 0,-365.5\" stroke=\"#000000\"/>\n",
       "<text fill=\"#000000\" font-family=\"Times,serif\" font-size=\"14.00\" text-anchor=\"middle\" x=\"84\" y=\"-379.8\">dense_1_input: InputLayer</text>\n",
       "</g>\n",
       "<!-- 4852566056 -->\n",
       "<g class=\"node\" id=\"node2\">\n",
       "<title>4852566056</title>\n",
       "<polygon fill=\"none\" points=\"31.5,-292.5 31.5,-328.5 136.5,-328.5 136.5,-292.5 31.5,-292.5\" stroke=\"#000000\"/>\n",
       "<text fill=\"#000000\" font-family=\"Times,serif\" font-size=\"14.00\" text-anchor=\"middle\" x=\"84\" y=\"-306.8\">dense_1: Dense</text>\n",
       "</g>\n",
       "<!-- 4852566392&#45;&gt;4852566056 -->\n",
       "<g class=\"edge\" id=\"edge1\">\n",
       "<title>4852566392-&gt;4852566056</title>\n",
       "<path d=\"M84,-365.4551C84,-357.3828 84,-347.6764 84,-338.6817\" fill=\"none\" stroke=\"#000000\"/>\n",
       "<polygon fill=\"#000000\" points=\"87.5001,-338.5903 84,-328.5904 80.5001,-338.5904 87.5001,-338.5903\" stroke=\"#000000\"/>\n",
       "</g>\n",
       "<!-- 4852566616 -->\n",
       "<g class=\"node\" id=\"node3\">\n",
       "<title>4852566616</title>\n",
       "<polygon fill=\"none\" points=\"20,-219.5 20,-255.5 148,-255.5 148,-219.5 20,-219.5\" stroke=\"#000000\"/>\n",
       "<text fill=\"#000000\" font-family=\"Times,serif\" font-size=\"14.00\" text-anchor=\"middle\" x=\"84\" y=\"-233.8\">dropout_1: Dropout</text>\n",
       "</g>\n",
       "<!-- 4852566056&#45;&gt;4852566616 -->\n",
       "<g class=\"edge\" id=\"edge2\">\n",
       "<title>4852566056-&gt;4852566616</title>\n",
       "<path d=\"M84,-292.4551C84,-284.3828 84,-274.6764 84,-265.6817\" fill=\"none\" stroke=\"#000000\"/>\n",
       "<polygon fill=\"#000000\" points=\"87.5001,-265.5903 84,-255.5904 80.5001,-265.5904 87.5001,-265.5903\" stroke=\"#000000\"/>\n",
       "</g>\n",
       "<!-- 4852566952 -->\n",
       "<g class=\"node\" id=\"node4\">\n",
       "<title>4852566952</title>\n",
       "<polygon fill=\"none\" points=\"31.5,-146.5 31.5,-182.5 136.5,-182.5 136.5,-146.5 31.5,-146.5\" stroke=\"#000000\"/>\n",
       "<text fill=\"#000000\" font-family=\"Times,serif\" font-size=\"14.00\" text-anchor=\"middle\" x=\"84\" y=\"-160.8\">dense_2: Dense</text>\n",
       "</g>\n",
       "<!-- 4852566616&#45;&gt;4852566952 -->\n",
       "<g class=\"edge\" id=\"edge3\">\n",
       "<title>4852566616-&gt;4852566952</title>\n",
       "<path d=\"M84,-219.4551C84,-211.3828 84,-201.6764 84,-192.6817\" fill=\"none\" stroke=\"#000000\"/>\n",
       "<polygon fill=\"#000000\" points=\"87.5001,-192.5903 84,-182.5904 80.5001,-192.5904 87.5001,-192.5903\" stroke=\"#000000\"/>\n",
       "</g>\n",
       "<!-- 4789864096 -->\n",
       "<g class=\"node\" id=\"node5\">\n",
       "<title>4789864096</title>\n",
       "<polygon fill=\"none\" points=\"20,-73.5 20,-109.5 148,-109.5 148,-73.5 20,-73.5\" stroke=\"#000000\"/>\n",
       "<text fill=\"#000000\" font-family=\"Times,serif\" font-size=\"14.00\" text-anchor=\"middle\" x=\"84\" y=\"-87.8\">dropout_2: Dropout</text>\n",
       "</g>\n",
       "<!-- 4852566952&#45;&gt;4789864096 -->\n",
       "<g class=\"edge\" id=\"edge4\">\n",
       "<title>4852566952-&gt;4789864096</title>\n",
       "<path d=\"M84,-146.4551C84,-138.3828 84,-128.6764 84,-119.6817\" fill=\"none\" stroke=\"#000000\"/>\n",
       "<polygon fill=\"#000000\" points=\"87.5001,-119.5903 84,-109.5904 80.5001,-119.5904 87.5001,-119.5903\" stroke=\"#000000\"/>\n",
       "</g>\n",
       "<!-- 4789865440 -->\n",
       "<g class=\"node\" id=\"node6\">\n",
       "<title>4789865440</title>\n",
       "<polygon fill=\"none\" points=\"31.5,-.5 31.5,-36.5 136.5,-36.5 136.5,-.5 31.5,-.5\" stroke=\"#000000\"/>\n",
       "<text fill=\"#000000\" font-family=\"Times,serif\" font-size=\"14.00\" text-anchor=\"middle\" x=\"84\" y=\"-14.8\">dense_3: Dense</text>\n",
       "</g>\n",
       "<!-- 4789864096&#45;&gt;4789865440 -->\n",
       "<g class=\"edge\" id=\"edge5\">\n",
       "<title>4789864096-&gt;4789865440</title>\n",
       "<path d=\"M84,-73.4551C84,-65.3828 84,-55.6764 84,-46.6817\" fill=\"none\" stroke=\"#000000\"/>\n",
       "<polygon fill=\"#000000\" points=\"87.5001,-46.5903 84,-36.5904 80.5001,-46.5904 87.5001,-46.5903\" stroke=\"#000000\"/>\n",
       "</g>\n",
       "</g>\n",
       "</svg>"
      ],
      "text/plain": [
       "<IPython.core.display.SVG object>"
      ]
     },
     "execution_count": 7,
     "metadata": {},
     "output_type": "execute_result"
    }
   ],
   "source": [
    "from IPython.display import SVG\n",
    "from keras.utils.vis_utils import model_to_dot\n",
    "\n",
    "SVG(model_to_dot(model).create(prog='dot', format='svg'))"
   ]
  },
  {
   "cell_type": "markdown",
   "metadata": {},
   "source": [
    "## Cyclical Learning Rate and Momentum"
   ]
  },
  {
   "cell_type": "code",
   "execution_count": 8,
   "metadata": {},
   "outputs": [],
   "source": [
    "sched = OneCycle(min_lr=7e-3, max_lr=7e-2, min_mtm = 0.85, max_mtm = 0.95, annealing_stage=0.1, annealing_rate=0.01,\n",
    "          training_iterations=np.ceil(((X_train.shape[0]*epochs)/(batch_size))))\n",
    "model = Net()"
   ]
  },
  {
   "cell_type": "code",
   "execution_count": 9,
   "metadata": {
    "scrolled": true
   },
   "outputs": [
    {
     "name": "stdout",
     "output_type": "stream",
     "text": [
      "Train on 60000 samples, validate on 10000 samples\n",
      "Epoch 1/5\n",
      "60000/60000 [==============================] - 6s 102us/step - loss: 0.4248 - acc: 0.8735 - val_loss: 0.1668 - val_acc: 0.9504\n",
      "Epoch 2/5\n",
      "60000/60000 [==============================] - 6s 106us/step - loss: 0.1464 - acc: 0.9560 - val_loss: 0.1022 - val_acc: 0.9670\n",
      "Epoch 3/5\n",
      "60000/60000 [==============================] - 6s 107us/step - loss: 0.0984 - acc: 0.9694 - val_loss: 0.0738 - val_acc: 0.9767\n",
      "Epoch 4/5\n",
      "60000/60000 [==============================] - 6s 107us/step - loss: 0.0702 - acc: 0.9778 - val_loss: 0.0643 - val_acc: 0.9802\n",
      "Epoch 5/5\n",
      "60000/60000 [==============================] - 6s 101us/step - loss: 0.0471 - acc: 0.9855 - val_loss: 0.0560 - val_acc: 0.9824\n"
     ]
    },
    {
     "data": {
      "text/plain": [
       "<keras.callbacks.History at 0x12fe37128>"
      ]
     },
     "execution_count": 9,
     "metadata": {},
     "output_type": "execute_result"
    }
   ],
   "source": [
    "model.fit(X_train, y_train, batch_size=batch_size, epochs=epochs, validation_data=(X_test, y_test), callbacks=[sched])"
   ]
  },
  {
   "cell_type": "code",
   "execution_count": 10,
   "metadata": {},
   "outputs": [
    {
     "data": {
      "image/png": "[encoded data removed]",
      "text/plain": [
       "<Figure size 432x288 with 1 Axes>"
      ]
     },
     "metadata": {},
     "output_type": "display_data"
    }
   ],
   "source": [
    "sched.plot_lr()"
   ]
  },
  {
   "cell_type": "code",
   "execution_count": 11,
   "metadata": {},
   "outputs": [
    {
     "data": {
      "image/png": "[encoded data removed]",
      "text/plain": [
       "<Figure size 432x288 with 1 Axes>"
      ]
     },
     "metadata": {},
     "output_type": "display_data"
    }
   ],
   "source": [
    "sched.plot_mtm()"
   ]
  }
 ],
 "metadata": {
  "kernelspec": {
   "display_name": "Python 3",
   "language": "python",
   "name": "python3"
  },
  "language_info": {
   "codemirror_mode": {
    "name": "ipython",
    "version": 3
   },
   "file_extension": ".py",
   "mimetype": "text/x-python",
   "name": "python",
   "nbconvert_exporter": "python",
   "pygments_lexer": "ipython3",
   "version": "3.6.6"
  }
 },
 "nbformat": 4,
 "nbformat_minor": 2
}
